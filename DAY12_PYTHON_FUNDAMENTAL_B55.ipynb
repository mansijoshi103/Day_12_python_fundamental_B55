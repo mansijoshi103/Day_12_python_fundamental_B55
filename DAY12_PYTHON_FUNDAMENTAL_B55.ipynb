{
 "cells": [
  {
   "cell_type": "code",
   "execution_count": 2,
   "id": "1bcdd135",
   "metadata": {},
   "outputs": [],
   "source": [
    "#Introduction to python functions:"
   ]
  },
  {
   "cell_type": "code",
   "execution_count": null,
   "id": "67609140",
   "metadata": {},
   "outputs": [],
   "source": []
  },
  {
   "cell_type": "code",
   "execution_count": 3,
   "id": "b65b4359",
   "metadata": {},
   "outputs": [],
   "source": [
    "#req: i want to create a greet function \n"
   ]
  },
  {
   "cell_type": "code",
   "execution_count": null,
   "id": "7425177d",
   "metadata": {},
   "outputs": [],
   "source": [
    "def is the keyword used to defining a function "
   ]
  },
  {
   "cell_type": "code",
   "execution_count": 4,
   "id": "2b58a1ba",
   "metadata": {},
   "outputs": [],
   "source": [
    "def great():   #defining and declaring the function\"\n",
    "    \"creating great function\"  #doc-string (commenting inside the function)\n",
    "    print(\"hello everyone\")\n",
    "    \n"
   ]
  },
  {
   "cell_type": "code",
   "execution_count": 5,
   "id": "8f757a9c",
   "metadata": {},
   "outputs": [
    {
     "name": "stdout",
     "output_type": "stream",
     "text": [
      "hello everyone\n"
     ]
    }
   ],
   "source": [
    "great()"
   ]
  },
  {
   "cell_type": "code",
   "execution_count": 6,
   "id": "b59fa934",
   "metadata": {},
   "outputs": [],
   "source": [
    "#enhancement of the code"
   ]
  },
  {
   "cell_type": "code",
   "execution_count": 7,
   "id": "aec6d739",
   "metadata": {},
   "outputs": [],
   "source": [
    "def greet(username):   #parameter declaration\n",
    "    \"creating greet function to greeting the user\"  \n",
    "    print(f\"hello,{username.title()}\")\n",
    "    \n"
   ]
  },
  {
   "cell_type": "code",
   "execution_count": 11,
   "id": "cf2f4133",
   "metadata": {},
   "outputs": [
    {
     "name": "stdout",
     "output_type": "stream",
     "text": [
      "hello, Mansi\n"
     ]
    }
   ],
   "source": [
    "greet (' mansi') #argument passing "
   ]
  },
  {
   "cell_type": "code",
   "execution_count": null,
   "id": "b7fd0dc6",
   "metadata": {},
   "outputs": [],
   "source": [
    "()------->parenthesis."
   ]
  },
  {
   "cell_type": "code",
   "execution_count": null,
   "id": "e26aa162",
   "metadata": {},
   "outputs": [],
   "source": []
  },
  {
   "cell_type": "code",
   "execution_count": null,
   "id": "280cd865",
   "metadata": {},
   "outputs": [],
   "source": [
    "Types of argument:\n",
    "    \n",
    "    1.positional arguments\n",
    "    \n",
    "    2.keyword arguments\n",
    "    \n",
    "    3.default arguments.\n",
    "    \n",
    "    "
   ]
  },
  {
   "cell_type": "code",
   "execution_count": null,
   "id": "418e229e",
   "metadata": {},
   "outputs": [],
   "source": [
    "1.positional arguments:\n",
    "    \n",
    "    "
   ]
  },
  {
   "cell_type": "code",
   "execution_count": null,
   "id": "44a692cd",
   "metadata": {},
   "outputs": [],
   "source": [
    "#req: i want to descibe food as function it nedd to accept lets say two parameters\n",
    "\n",
    "1.:-food_type\n",
    "2.:- food name"
   ]
  },
  {
   "cell_type": "code",
   "execution_count": 7,
   "id": "4bf92336",
   "metadata": {},
   "outputs": [],
   "source": [
    "def describe_food(food_type,food_name):    #defining the functions----->2 parameters\n",
    "    print(f\"I have a {food_type}\")                  #logic\n",
    "    print(f\"My{food_type}'s name is {food_name}\")   #logic"
   ]
  },
  {
   "cell_type": "raw",
   "id": "c242cffd",
   "metadata": {},
   "source": []
  },
  {
   "cell_type": "code",
   "execution_count": 8,
   "id": "2c41baf7",
   "metadata": {},
   "outputs": [
    {
     "name": "stdout",
     "output_type": "stream",
     "text": [
      "I have a fruit\n",
      "Myfruit's name is Apple\n"
     ]
    }
   ],
   "source": [
    "describe_food('fruit','Apple')\n"
   ]
  },
  {
   "cell_type": "code",
   "execution_count": 9,
   "id": "f2f7d131",
   "metadata": {},
   "outputs": [
    {
     "name": "stdout",
     "output_type": "stream",
     "text": [
      "I have a Mango\n",
      "MyMango's name is fruit\n"
     ]
    }
   ],
   "source": [
    "describe_food('Mango','fruit')\n"
   ]
  },
  {
   "cell_type": "code",
   "execution_count": 15,
   "id": "567123e1",
   "metadata": {},
   "outputs": [
    {
     "ename": "TypeError",
     "evalue": "describe_food() missing 1 required positional argument: 'food_name'",
     "output_type": "error",
     "traceback": [
      "\u001b[1;31m---------------------------------------------------------------------------\u001b[0m",
      "\u001b[1;31mTypeError\u001b[0m                                 Traceback (most recent call last)",
      "\u001b[1;32m~\\AppData\\Local\\Temp/ipykernel_12472/386575068.py\u001b[0m in \u001b[0;36m<module>\u001b[1;34m\u001b[0m\n\u001b[1;32m----> 1\u001b[1;33m \u001b[0mdescribe_food\u001b[0m\u001b[1;33m(\u001b[0m\u001b[1;34m'fruit'\u001b[0m\u001b[1;33m)\u001b[0m\u001b[1;33m\u001b[0m\u001b[1;33m\u001b[0m\u001b[0m\n\u001b[0m",
      "\u001b[1;31mTypeError\u001b[0m: describe_food() missing 1 required positional argument: 'food_name'"
     ]
    }
   ],
   "source": [
    "describe_food('fruit')\n"
   ]
  },
  {
   "cell_type": "code",
   "execution_count": null,
   "id": "bd8b77f8",
   "metadata": {},
   "outputs": [],
   "source": [
    "2)#keyword:"
   ]
  },
  {
   "cell_type": "code",
   "execution_count": 10,
   "id": "c19842d7",
   "metadata": {},
   "outputs": [
    {
     "name": "stdout",
     "output_type": "stream",
     "text": [
      "I have a cold coffee\n",
      "Mycold coffee's name is coffee\n"
     ]
    }
   ],
   "source": [
    "describe_food('cold coffee','coffee')\n"
   ]
  },
  {
   "cell_type": "code",
   "execution_count": 13,
   "id": "b4e8942c",
   "metadata": {},
   "outputs": [
    {
     "name": "stdout",
     "output_type": "stream",
     "text": [
      "I have a coffee\n",
      "Mycoffee's name is cold coffee\n"
     ]
    }
   ],
   "source": [
    "describe_food(food_type='coffee',food_name='cold coffee')\n"
   ]
  },
  {
   "cell_type": "code",
   "execution_count": 14,
   "id": "96e854c5",
   "metadata": {},
   "outputs": [
    {
     "name": "stdout",
     "output_type": "stream",
     "text": [
      "I have a coffee\n",
      "Mycoffee's name is cold coffee\n"
     ]
    }
   ],
   "source": [
    "describe_food(food_name='cold coffee',food_type='coffee')\n"
   ]
  },
  {
   "cell_type": "code",
   "execution_count": null,
   "id": "f39c616d",
   "metadata": {},
   "outputs": [],
   "source": []
  },
  {
   "cell_type": "code",
   "execution_count": null,
   "id": "7cfccb4a",
   "metadata": {},
   "outputs": [],
   "source": [
    "#note : in case of any missing value info we will treat the food_type as a fruit"
   ]
  },
  {
   "cell_type": "code",
   "execution_count": null,
   "id": "681dc233",
   "metadata": {},
   "outputs": [],
   "source": [
    "3)default"
   ]
  },
  {
   "cell_type": "code",
   "execution_count": 16,
   "id": "ba1c4ff9",
   "metadata": {},
   "outputs": [
    {
     "ename": "SyntaxError",
     "evalue": "non-default argument follows default argument (Temp/ipykernel_12472/2962736747.py, line 1)",
     "output_type": "error",
     "traceback": [
      "\u001b[1;36m  File \u001b[1;32m\"C:\\Users\\mansi\\AppData\\Local\\Temp/ipykernel_12472/2962736747.py\"\u001b[1;36m, line \u001b[1;32m1\u001b[0m\n\u001b[1;33m    def describe_food(food_type=\"fruit\",food_name):    #defining the functions----->2 parameters\u001b[0m\n\u001b[1;37m                                                 ^\u001b[0m\n\u001b[1;31mSyntaxError\u001b[0m\u001b[1;31m:\u001b[0m non-default argument follows default argument\n"
     ]
    }
   ],
   "source": [
    "def describe_food(food_type=\"fruit\",food_name):    #defining the functions----->2 parameters\n",
    "    print(f\"I have a {food_type}\")                  #logic\n",
    "    print(f\"My {food_type}'s name is {food_name}\")   #logic"
   ]
  },
  {
   "cell_type": "code",
   "execution_count": 17,
   "id": "bccb477e",
   "metadata": {},
   "outputs": [],
   "source": [
    "def describe_food(food_name,food_type=\"fruit\"):    #defining the functions----->2 parameters\n",
    "    print(f\"I have a {food_type}\")                  #logic\n",
    "    print(f\"My {food_type}'s name is {food_name}\")   #logic"
   ]
  },
  {
   "cell_type": "code",
   "execution_count": 18,
   "id": "4e3bb566",
   "metadata": {},
   "outputs": [
    {
     "name": "stdout",
     "output_type": "stream",
     "text": [
      "I have a fruit\n",
      "My fruit's name is apple\n"
     ]
    }
   ],
   "source": [
    "describe_food(\"apple\")\n"
   ]
  },
  {
   "cell_type": "code",
   "execution_count": 19,
   "id": "f11ce3dd",
   "metadata": {},
   "outputs": [
    {
     "name": "stdout",
     "output_type": "stream",
     "text": [
      "I have a mango\n",
      "My mango's name is fruit\n"
     ]
    }
   ],
   "source": [
    "describe_food(\"fruit\",\"mango\")  \n",
    " "
   ]
  },
  {
   "cell_type": "code",
   "execution_count": 20,
   "id": "677d1ec0",
   "metadata": {},
   "outputs": [
    {
     "name": "stdout",
     "output_type": "stream",
     "text": [
      "I have a fruit\n",
      "My fruit's name is mango\n"
     ]
    }
   ],
   "source": [
    "describe_food(\"mango\",\"fruit\")\n"
   ]
  },
  {
   "cell_type": "code",
   "execution_count": 21,
   "id": "dc70d173",
   "metadata": {},
   "outputs": [
    {
     "name": "stdout",
     "output_type": "stream",
     "text": [
      "I have a icecream\n",
      "My icecream's name is mango\n"
     ]
    }
   ],
   "source": [
    "describe_food(\"mangoice\",\"icecream\")\n"
   ]
  },
  {
   "cell_type": "code",
   "execution_count": null,
   "id": "2491d197",
   "metadata": {},
   "outputs": [],
   "source": []
  }
 ],
 "metadata": {
  "kernelspec": {
   "display_name": "Python 3 (ipykernel)",
   "language": "python",
   "name": "python3"
  },
  "language_info": {
   "codemirror_mode": {
    "name": "ipython",
    "version": 3
   },
   "file_extension": ".py",
   "mimetype": "text/x-python",
   "name": "python",
   "nbconvert_exporter": "python",
   "pygments_lexer": "ipython3",
   "version": "3.9.7"
  }
 },
 "nbformat": 4,
 "nbformat_minor": 5
}
